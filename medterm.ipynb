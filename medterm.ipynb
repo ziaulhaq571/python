{
 "cells": [
  {
   "cell_type": "code",
   "execution_count": 18,
   "metadata": {},
   "outputs": [
    {
     "name": "stdout",
     "output_type": "stream",
     "text": [
      "string is a plendrom \n"
     ]
    }
   ],
   "source": [
    "p_str = 'civic'\n",
    "p_str = p_str.casefold()\n",
    "rev_str = reversed(p_str)\n",
    "if list(p_str) == list(rev_str):\n",
    "    print(\"string is a plendrom \")\n",
    "else:\n",
    "        print(\"string is not a plendrom \")\n",
    "        "
   ]
  },
  {
   "cell_type": "code",
   "execution_count": 21,
   "metadata": {},
   "outputs": [
    {
     "name": "stdout",
     "output_type": "stream",
     "text": [
      "enter ur name :sheraz ahmmad\n",
      "reverse of ur name: dammha zarehs\n"
     ]
    }
   ],
   "source": [
    "name = input(\"enter ur name :\")\n",
    "reverse = name[-1::-1]\n",
    "print(f\"reverse of ur name: {reverse}\")"
   ]
  },
  {
   "cell_type": "code",
   "execution_count": 20,
   "metadata": {},
   "outputs": [
    {
     "name": "stdout",
     "output_type": "stream",
     "text": [
      "['sheraz', 'ayoub', 'zia']\n"
     ]
    }
   ],
   "source": [
    "list = [\"zia\", \"ayoub\", \"sheraz\"]\n",
    "print(list[-1: :-1])"
   ]
  },
  {
   "cell_type": "code",
   "execution_count": 28,
   "metadata": {},
   "outputs": [
    {
     "name": "stdout",
     "output_type": "stream",
     "text": [
      "enter ur character :a\n",
      "a is a vovel\n"
     ]
    }
   ],
   "source": [
    "ch = input(\"enter ur character :\")\n",
    "if(ch=='A' or ch=='a' or  ch=='E' or ch=='e' or ch=='I' or ch=='i' or ch=='O' or ch=='o' or ch=='U' or ch=='u'):\n",
    "    print(ch, \"is a vovel\")\n",
    "else:\n",
    "    print(ch, \"is a consonent\") "
   ]
  },
  {
   "cell_type": "code",
   "execution_count": 2,
   "metadata": {},
   "outputs": [
    {
     "name": "stdout",
     "output_type": "stream",
     "text": [
      "Enter a number: 8\n",
      "The factorial of 8 is 40320\n"
     ]
    }
   ],
   "source": [
    "#taking input from the user\n",
    "num = int(input(\"Enter a number: \"))\n",
    "\n",
    "factorial=1\n",
    "# check if the number is negative, positive or zero\n",
    "if num < 0:\n",
    "   print(\"Sorry, factorial does not exist for negative numbers\")\n",
    "elif num == 0:\n",
    "   print(\"The factorial of 0 is 1\")\n",
    "else:\n",
    "   for i in range(1,num + 1):\n",
    "       factorial = factorial*i\n",
    "   print(\"The factorial of\",num,\"is\",factorial)"
   ]
  },
  {
   "cell_type": "code",
   "execution_count": null,
   "metadata": {},
   "outputs": [],
   "source": []
  },
  {
   "cell_type": "code",
   "execution_count": null,
   "metadata": {},
   "outputs": [],
   "source": []
  }
 ],
 "metadata": {
  "kernelspec": {
   "display_name": "Python 3",
   "language": "python",
   "name": "python3"
  },
  "language_info": {
   "codemirror_mode": {
    "name": "ipython",
    "version": 3
   },
   "file_extension": ".py",
   "mimetype": "text/x-python",
   "name": "python",
   "nbconvert_exporter": "python",
   "pygments_lexer": "ipython3",
   "version": "3.7.4"
  }
 },
 "nbformat": 4,
 "nbformat_minor": 2
}
